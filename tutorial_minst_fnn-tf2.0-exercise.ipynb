{
 "cells": [
  {
   "cell_type": "markdown",
   "metadata": {},
   "source": [
    "## 准备数据"
   ]
  },
  {
   "cell_type": "code",
   "execution_count": 1,
   "metadata": {},
   "outputs": [],
   "source": [
    "import os\n",
    "import numpy as np\n",
    "import tensorflow as tf\n",
    "from tensorflow import keras\n",
    "from tensorflow.keras import layers, optimizers, datasets\n",
    "\n",
    "os.environ['TF_CPP_MIN_LOG_LEVEL'] = '2'  # or any {'0', '1', '2'}\n",
    "\n",
    "def mnist_dataset():\n",
    "    (x, y), (x_test, y_test) = datasets.mnist.load_data()\n",
    "    #normalize\n",
    "    x = x/255.0\n",
    "    x_test = x_test/255.0\n",
    "    \n",
    "    return (x, y), (x_test, y_test)"
   ]
  },
  {
   "cell_type": "code",
   "execution_count": 2,
   "metadata": {},
   "outputs": [
    {
     "name": "stdout",
     "output_type": "stream",
     "text": [
      "[(1, 'a'), (2, 'b'), (3, 'c'), (4, 'd')]\n"
     ]
    }
   ],
   "source": [
    "print(list(zip([1, 2, 3, 4], ['a', 'b', 'c', 'd'])))"
   ]
  },
  {
   "cell_type": "markdown",
   "metadata": {},
   "source": [
    "## 建立模型"
   ]
  },
  {
   "cell_type": "code",
   "execution_count": 3,
   "metadata": {},
   "outputs": [],
   "source": [
    "class myModel:\n",
    "    def __init__(self):\n",
    "        ####################\n",
    "        '''声明模型对应的参数'''\n",
    "        self.W1 = tf.Variable(tf.random.normal(shape=(28 * 28, 128), stddev=0.01), trainable=True)\n",
    "        self.b1 = tf.Variable(tf.zeros(shape=(128,)), trainable=True)\n",
    "        self.W2 = tf.Variable(tf.random.normal(shape=(128, 10), stddev=0.01), trainable=True)\n",
    "        self.b2 = tf.Variable(tf.zeros(shape=(10,)), trainable=True)\n",
    "        ####################\n",
    "    def __call__(self, x):\n",
    "        ####################\n",
    "        '''实现模型函数体，返回未归一化的logits'''\n",
    "        ####################\n",
    "        x_flattened = tf.reshape(x, [-1, 784])\n",
    "        h1 = tf.matmul(x_flattened, self.W1) + self.b1\n",
    "        activated_h1 = tf.tanh(h1)\n",
    "        logits = tf.matmul(activated_h1, self.W2) + self.b2\n",
    "        return logits\n",
    "        \n",
    "model = myModel()\n",
    "\n",
    "optimizer = optimizers.Adam()"
   ]
  },
  {
   "cell_type": "markdown",
   "metadata": {},
   "source": [
    "## 计算 loss"
   ]
  },
  {
   "cell_type": "code",
   "execution_count": 4,
   "metadata": {},
   "outputs": [],
   "source": [
    "@tf.function\n",
    "def compute_loss(logits, labels):\n",
    "    return tf.reduce_mean(\n",
    "        tf.nn.sparse_softmax_cross_entropy_with_logits(\n",
    "            logits=logits, labels=labels))\n",
    "\n",
    "@tf.function\n",
    "def compute_accuracy(logits, labels):\n",
    "    predictions = tf.argmax(logits, axis=1)\n",
    "    return tf.reduce_mean(tf.cast(tf.equal(predictions, labels), tf.float32))\n",
    "\n",
    "@tf.function\n",
    "def train_one_step(model, optimizer, x, y):\n",
    "    with tf.GradientTape() as tape:\n",
    "        logits = model(x)\n",
    "        loss = compute_loss(logits, y)\n",
    "\n",
    "    # compute gradient\n",
    "    trainable_vars = [model.W1, model.W2, model.b1, model.b2]\n",
    "    grads = tape.gradient(loss, trainable_vars)\n",
    "    for g, v in zip(grads, trainable_vars):\n",
    "        v.assign_sub(0.01*g)\n",
    "\n",
    "    accuracy = compute_accuracy(logits, y)\n",
    "\n",
    "    # loss and accuracy is scalar tensor\n",
    "    return loss, accuracy\n",
    "\n",
    "@tf.function\n",
    "def test(model, x, y):\n",
    "    logits = model(x)\n",
    "    loss = compute_loss(logits, y)\n",
    "    accuracy = compute_accuracy(logits, y)\n",
    "    return loss, accuracy"
   ]
  },
  {
   "cell_type": "markdown",
   "metadata": {},
   "source": [
    "## 实际训练"
   ]
  },
  {
   "cell_type": "code",
   "execution_count": 7,
   "metadata": {},
   "outputs": [
    {
     "name": "stdout",
     "output_type": "stream",
     "text": [
      "epoch 0 : loss 2.2695527 ; accuracy 0.59208333\n",
      "epoch 1 : loss 2.269161 ; accuracy 0.5927167\n",
      "epoch 2 : loss 2.2687669 ; accuracy 0.5936\n",
      "epoch 3 : loss 2.2683706 ; accuracy 0.59455\n",
      "epoch 4 : loss 2.267972 ; accuracy 0.59555\n",
      "epoch 5 : loss 2.2675707 ; accuracy 0.59645\n",
      "epoch 6 : loss 2.267167 ; accuracy 0.59711665\n",
      "epoch 7 : loss 2.2667608 ; accuracy 0.59783334\n",
      "epoch 8 : loss 2.2663524 ; accuracy 0.59886664\n",
      "epoch 9 : loss 2.2659411 ; accuracy 0.59961665\n",
      "epoch 10 : loss 2.2655275 ; accuracy 0.6001833\n",
      "epoch 11 : loss 2.2651112 ; accuracy 0.60075\n",
      "epoch 12 : loss 2.2646923 ; accuracy 0.6012833\n",
      "epoch 13 : loss 2.2642708 ; accuracy 0.60178334\n",
      "epoch 14 : loss 2.2638466 ; accuracy 0.60235\n",
      "epoch 15 : loss 2.2634199 ; accuracy 0.60293335\n",
      "epoch 16 : loss 2.2629898 ; accuracy 0.60361665\n",
      "epoch 17 : loss 2.2625577 ; accuracy 0.60436666\n",
      "epoch 18 : loss 2.2621224 ; accuracy 0.60471666\n",
      "epoch 19 : loss 2.2616844 ; accuracy 0.60543334\n",
      "epoch 20 : loss 2.2612433 ; accuracy 0.6059333\n",
      "epoch 21 : loss 2.2607996 ; accuracy 0.60635\n",
      "epoch 22 : loss 2.260353 ; accuracy 0.60686666\n",
      "epoch 23 : loss 2.2599037 ; accuracy 0.60761666\n",
      "epoch 24 : loss 2.2594512 ; accuracy 0.60796666\n",
      "epoch 25 : loss 2.2589955 ; accuracy 0.6085167\n",
      "epoch 26 : loss 2.2585373 ; accuracy 0.60875\n",
      "epoch 27 : loss 2.2580755 ; accuracy 0.60898334\n",
      "epoch 28 : loss 2.257611 ; accuracy 0.60948336\n",
      "epoch 29 : loss 2.2571433 ; accuracy 0.6097\n",
      "epoch 30 : loss 2.2566724 ; accuracy 0.61\n",
      "epoch 31 : loss 2.2561982 ; accuracy 0.61045\n",
      "epoch 32 : loss 2.2557209 ; accuracy 0.6110833\n",
      "epoch 33 : loss 2.2552407 ; accuracy 0.61156666\n",
      "epoch 34 : loss 2.254757 ; accuracy 0.61198336\n",
      "epoch 35 : loss 2.25427 ; accuracy 0.6124\n",
      "epoch 36 : loss 2.2537796 ; accuracy 0.61253333\n",
      "epoch 37 : loss 2.2532864 ; accuracy 0.61293334\n",
      "epoch 38 : loss 2.2527893 ; accuracy 0.61296666\n",
      "epoch 39 : loss 2.252289 ; accuracy 0.6131833\n",
      "epoch 40 : loss 2.2517848 ; accuracy 0.61326665\n",
      "epoch 41 : loss 2.2512777 ; accuracy 0.6134\n",
      "epoch 42 : loss 2.250767 ; accuracy 0.61335\n",
      "epoch 43 : loss 2.2502525 ; accuracy 0.6134833\n",
      "epoch 44 : loss 2.2497349 ; accuracy 0.6136\n",
      "epoch 45 : loss 2.2492132 ; accuracy 0.61395\n",
      "epoch 46 : loss 2.2486882 ; accuracy 0.61411667\n",
      "epoch 47 : loss 2.2481596 ; accuracy 0.61433333\n",
      "epoch 48 : loss 2.2476273 ; accuracy 0.61471665\n",
      "epoch 49 : loss 2.247091 ; accuracy 0.6149\n",
      "test loss 2.245453 ; accuracy 0.6187\n"
     ]
    }
   ],
   "source": [
    "train_data, test_data = mnist_dataset()\n",
    "for epoch in range(50):\n",
    "    loss, accuracy = train_one_step(model, optimizer, \n",
    "                                    tf.constant(train_data[0], dtype=tf.float32), \n",
    "                                    tf.constant(train_data[1], dtype=tf.int64))\n",
    "    print('epoch', epoch, ': loss', loss.numpy(), '; accuracy', accuracy.numpy())\n",
    "loss, accuracy = test(model, \n",
    "                      tf.constant(test_data[0], dtype=tf.float32), \n",
    "                      tf.constant(test_data[1], dtype=tf.int64))\n",
    "\n",
    "print('test loss', loss.numpy(), '; accuracy', accuracy.numpy())"
   ]
  }
 ],
 "metadata": {
  "kernelspec": {
   "display_name": "Python 3",
   "language": "python",
   "name": "python3"
  },
  "language_info": {
   "codemirror_mode": {
    "name": "ipython",
    "version": 3
   },
   "file_extension": ".py",
   "mimetype": "text/x-python",
   "name": "python",
   "nbconvert_exporter": "python",
   "pygments_lexer": "ipython3",
   "version": "3.10.13"
  }
 },
 "nbformat": 4,
 "nbformat_minor": 2
}
